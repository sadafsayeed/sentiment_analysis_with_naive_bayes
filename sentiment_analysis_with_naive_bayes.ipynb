{
  "nbformat": 4,
  "nbformat_minor": 0,
  "metadata": {
    "colab": {
      "provenance": []
    },
    "kernelspec": {
      "name": "python3",
      "display_name": "Python 3"
    },
    "language_info": {
      "name": "python"
    }
  },
  "cells": [
    {
      "cell_type": "code",
      "source": [
        "from sklearn.model_selection import train_test_split"
      ],
      "metadata": {
        "id": "gFKuod4lFE8k"
      },
      "execution_count": null,
      "outputs": []
    },
    {
      "cell_type": "code",
      "source": [
        "from sklearn.feature_extraction.text import CountVectorizer\n",
        "import sklearn.naive_bayes\n",
        "import json"
      ],
      "metadata": {
        "id": "sjNlkW5jAH2u"
      },
      "execution_count": null,
      "outputs": []
    },
    {
      "cell_type": "code",
      "execution_count": null,
      "metadata": {
        "id": "gw80NmLu_07l"
      },
      "outputs": [],
      "source": [
        "def calcSentiment_train(trainFile):\n",
        "\n",
        "\t# trainFile: A jsonlist file, where each line is a json object. Each object contains:\n",
        "\t# \t\"review\": A string which is the review of a movie\n",
        "\t# \t\"sentiment\": A Boolean value, True if it was a positive review, False if it was a negative review.\n",
        "\treviews = []\n",
        "\tsentiments = []\n",
        "\n",
        "\twith open(trainFile, \"r\") as f:\n",
        "\t\tfor line in f:\n",
        "\t\t\treview = json.loads(line).get(\"review\")\n",
        "\t\t\treviews.append(review)\n",
        "\t\t\tsentiment = json.loads(line).get(\"sentiment\")\n",
        "\t\t\tsentiments.append(sentiment)\n",
        "\n",
        "\tglobal vectorizer\n",
        "\tvectorizer = CountVectorizer()\n",
        "\treviews = vectorizer.fit_transform(reviews)\n",
        "\n",
        "\tglobal model\n",
        "\tmodel = sklearn.naive_bayes.MultinomialNB()\n",
        "\tmodel.fit(reviews, sentiments)"
      ]
    },
    {
      "cell_type": "code",
      "source": [
        "def calcSentiment_test(review):\n",
        "\t# review: A string which is a review of a movie\n",
        "\t# Return a boolean which is the predicted sentiment of the review.\n",
        "  global model, vectorizer\n",
        "\n",
        "  review = vectorizer.transform(review)\n",
        "  prediction = model.predict(review)\n",
        "\n",
        "  return prediction\n"
      ],
      "metadata": {
        "id": "HJraoQLrAEOd"
      },
      "execution_count": null,
      "outputs": []
    },
    {
      "cell_type": "code",
      "source": [
        "problems2 = [\n",
        "\t\"\"\"in , \" the muse \" albert brooks plays steven phillips , a hollywood screenwriter who after winning a humanitarian award for his work is dumped by his studio .\n",
        "they claim that he's lost his edge and his agent is quick to agree with them .\n",
        "he knows that he needs to write something fresh and original and quick or else his career will be over .\n",
        "so he turns to his \" best \" friend , jack ( jeff bridges ) another screenwriter who's enjoyed success after success .\n",
        "on the way over to jack's house steven sees jack helping an attractive woman ( sharon stone ) into a cab and begins to think : is he having an affair ?\n",
        "when confronted , jack relunctently tells him that this mystery woman is , in fact , a muse , a mythological figure who is believed to have inspired all creativity , and has helped him garner his success .\n",
        " \" she doesn't do any actual writing , \" he is told , \" but inspires you . \"\n",
        "steven is excited by what he's hearing and asks jack to call her up to see if she'll take steven on as a new client .\n",
        "jack arranges a meeting between the two and suggests that steven bring her a present , preferably something from tiffany's .\n",
        "after the meeting the muse , sarah decides to take on steven , but at a price : she wants a suite at the four seasons and wants steven to perform odd tasks for her ( like bringing her salads in the middle of the night . )\n",
        "steven's wife ( andy macdowell ) sees him at a food store and questions him about why he has tampons in his wagon .\n",
        "steven confesses everything and , although at first suspicious , she later allows sarah to move into their guest room and eventually into their life .\n",
        "the only question for steven is if the muse is worth all the trouble he's going through for her .\n",
        "and that's a question only time will tell .\n",
        " \" the muse \" is albert brooks' sixth film as writer/director/actor ( he co-wrote with monica johnson ) and although it's a good movie it's not up to the level of his best works ( \" defending your life \" and \" mother \" ) .\n",
        "the problem lies in the script , and for a movie that relies on its dialogue for its humor , there aren't nearly as many laughs as they are chuckles despite a few good one-liners .\n",
        "it has a great premise but doesn't deliver up to it's full potential .\n",
        "but , i like albert brooks in this film and i think that we can all identify with steven phillips a little bit .\n",
        "he may whine and complain , but he just wants to support his family and be happy .\n",
        "and i like sharon stone in this movie too ; it's a nice change of pace for her .\n",
        "and i also enjoyed the cameos featuring the likes of rob reiner , james cameron and martin scorsese .\n",
        "and although \" the muse \" doesn't have as much to say about hollywood as robert altman's \" the player \" i still left the theater feeling good .\n",
        "and that's something i wish i got out of more movies .\n",
        "\"\"\",\n",
        "\t\"\"\"can a horror movie truly be called a horror movie if it has no scares , suspense , or even eerie elements ?\n",
        "i think not , but that's what children of the corn 666 : issac's return wants us to believe .\n",
        "the sixth installment in the horrible , worn out series is by far the worst to date .\n",
        "unlike the other five chapters , children of the corn 666 is a confusing , brainless thriller that takes the psychological horror route rather than slasher horror , but either way , none of these movies are the least bit scary .\n",
        "the film follows hannah ( natalie ramsey ) a teen looking for her mother in gatlin , nebraska , on the eve of her 21st birthday .\n",
        "what starts out as a daughter in desperate search of her long lost mother turns into the story of hannah being the first daughter of the children of the corn , who roam the cornfields looking for adults to murder .\n",
        "that's about all that's understandable in the film , as after we learn this much , issac ( john franklin ) who led the children of the corn in a previous chapter , now an older , strange man , is looking for hannah to fulfill his prophecy .\n",
        "and this is supposed to make sense .\n",
        "really .\n",
        "from the start the film is unclear of where its going , not developing any characters or throwing any concrete plot details across the table , constantly introducing new characters without personalities or the slightest hint of an individuality , and sub plots that have nothing to do with what seems to the main focus of the film .\n",
        "the film runs at a short 78 minutes , but it seems to be more in the vicinity of two hours , as the bleak , slow pacing makes children of the corn 666 : issac's return excruciatingly boring .\n",
        "plot holes are everywhere in tim sulka and john franklin's unbelievably horrible script , as nothing is accomplished or clear when the film reaches its conclusion .\n",
        "everyone and everything involved with children of the corn 666 : issac's return , namely writers john franklin and tim sulka , along with director kari skogland , should crawl under a rock , and hope no one sees their horrible work of trash .\n",
        "the bottom line : horrible , horrible , horrible .\n",
        "another attempt to revive this worn out genre falls flat .\n",
        "and what's with that title ?\n",
        "the devil has nothing to do whatsoever with this film .\n",
        "let's pray that this is the finale in one of the worst current film series .\n",
        "one of the worst horror films in years .\n",
        "\"\"\"\n",
        "]"
      ],
      "metadata": {
        "id": "BTDihDJIsJ9a"
      },
      "execution_count": null,
      "outputs": []
    },
    {
      "cell_type": "code",
      "source": [
        "calcSentiment_train(\"/content/problem2_trainingFile.jsonlist\")"
      ],
      "metadata": {
        "id": "u5Gu2kqD0vdO"
      },
      "execution_count": null,
      "outputs": []
    },
    {
      "cell_type": "code",
      "source": [
        "calcSentiment_test(problems2)"
      ],
      "metadata": {
        "colab": {
          "base_uri": "https://localhost:8080/"
        },
        "id": "06SIHVuK0aCh",
        "outputId": "4dc99e0e-06f8-4071-9f31-4f13e7647678"
      },
      "execution_count": null,
      "outputs": [
        {
          "output_type": "execute_result",
          "data": {
            "text/plain": [
              "array([ True, False])"
            ]
          },
          "metadata": {},
          "execution_count": 6
        }
      ]
    }
  ]
}